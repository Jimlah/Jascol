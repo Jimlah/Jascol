{
 "cells": [
  {
   "cell_type": "code",
   "execution_count": 5,
   "metadata": {},
   "outputs": [],
   "source": [
    "import pandas as pd\n",
    "import requests\n",
    "from bs4 import BeautifulSoup"
   ]
  },
  {
   "cell_type": "code",
   "execution_count": 13,
   "metadata": {
    "scrolled": true
   },
   "outputs": [
    {
     "name": "stdout",
     "output_type": "stream",
     "text": [
      "input you search data: pervious concrete\n",
      "input you search file path: for example C:/Users/ABDULLAH/Pictures/: C:/Users/ABDULLAH/Pictures/Cement/\n",
      "input lower year Range: 2010\n",
      "input higher year Range: 2020\n",
      "https://www.researchgate.net/profile/Gersson_Sandoval/publication/339843281_Proposal_of_maintenance_methodology_for_pervious_concrete_PC_after_the_phenomenon_of_clogging/links/5e6a325da6fdcc759503a494/Proposal-of-maintenance-methodology-for-pervious-concrete-PC-after-the-phenomenon-of-clogging.pdf\n",
      "ProposalofmaintenancemethodologyforperviousconcretePCafterthephenomenonofcloggingpdf  ....downloading\n",
      "ProposalofmaintenancemethodologyforperviousconcretePCafterthephenomenonofcloggingpdf finished downloading\n",
      "https://patentimages.storage.googleapis.com/4a/f5/a2/90c46491bce5bd/US20200102740A1.pdf\n",
      "US20200102740A1pdf  ....downloading\n",
      "US20200102740A1pdf finished downloading\n",
      "https://www.researchgate.net/profile/Tanveer_Ahmed41/publication/338686002_Study_on_pervious_concrete_pavement_mix_designs/links/5e24b19392851cafc3931335/Study-on-pervious-concrete-pavement-mix-designs.pdf\n",
      "Studyonperviousconcretepavementmixdesignspdf  ....downloading\n",
      "Studyonperviousconcretepavementmixdesignspdf finished downloading\n",
      "https://www.sciencedirect.com/science/article/pii/S2214509520300073\n",
      "S2214509520300073  ....downloading\n",
      "S2214509520300073 finished downloading\n",
      "http://www.academia.edu/download/63237933/an-experimental-analysis-of-pervious-concrete-side-drains-to-IJERTV9IS05007420200508-79494-1os6wsr.pdf\n",
      "anexperimentalanalysisofperviousconcretesidedrainstoIJERTV9IS05007420200508794941os6wsrpdf  ....downloading\n",
      "anexperimentalanalysisofperviousconcretesidedrainstoIJERTV9IS05007420200508794941os6wsrpdf finished downloading\n",
      "https://aip.scitation.org/doi/pdf/10.1063/5.0000154\n",
      "50000154  ....downloading\n",
      "50000154 finished downloading\n",
      "http://www.academia.edu/download/61667707/studying-the-effect-of-silica-fumes-on-IJERTV8IS12034120200103-84472-1pjfc7o.pdf\n",
      "studyingtheeffectofsilicafumesonIJERTV8IS12034120200103844721pjfc7opdf  ....downloading\n",
      "studyingtheeffectofsilicafumesonIJERTV8IS12034120200103844721pjfc7opdf finished downloading\n",
      "http://www.ir.juit.ac.in:8080/jspui/bitstream/123456789/23241/1/Mix%20Design%20and%20Factors%20Affecting%20Strength%20of%20Pervious%20Concrete.pdf\n",
      "Mix20Design20and20Factors20Affecting20Strength20of20Pervious20Concretepdf  ....downloading\n",
      "Mix20Design20and20Factors20Affecting20Strength20of20Pervious20Concretepdf finished downloading\n",
      "https://iopscience.iop.org/article/10.1088/1755-1315/437/1/012016/pdf\n",
      "pdf  ....downloading\n",
      "pdf finished downloading\n",
      "https://pubs.rsc.org/en/content/articlehtml/2020/ra/c9ra09070c\n",
      "c9ra09070c  ....downloading\n",
      "url is faulty\n",
      "https://www.scielo.br/scielo.php?pid=S1516-89132020000100701&script=sci_arttext\n",
      "scielophppidS151689132020000100701scriptsci_arttext  ....downloading\n",
      "scielophppidS151689132020000100701scriptsci_arttext finished downloading\n",
      "https://www.researchgate.net/profile/Olumoyewa_Atoyebi/publication/340226155_Effect_of_different_brands_of_Nigerian_cement_on_the_properties_of_pervious_concrete/links/5e7dd2ec458515efa0adb84c/Effect-of-different-brands-of-Nigerian-cement-on-the-properties-of-pervious-concrete.pdf\n",
      "EffectofdifferentbrandsofNigeriancementonthepropertiesofperviousconcretepdf  ....downloading\n",
      "EffectofdifferentbrandsofNigeriancementonthepropertiesofperviousconcretepdf finished downloading\n",
      "https://www.sciencedirect.com/science/article/pii/S2214509520300267\n",
      "S2214509520300267  ....downloading\n",
      "S2214509520300267 finished downloading\n",
      "https://www.researchgate.net/profile/Barnali_Debnath3/publication/329818209_Pervious_concrete_as_an_alternative_pavement_strategy_a_state-of-the-art_review/links/5e5662b892851cefa1c4d6bb/Pervious-concrete-as-an-alternative-pavement-strategy-a-state-of-the-art-review.pdf\n",
      "Perviousconcreteasanalternativepavementstrategyastateoftheartreviewpdf  ....downloading\n",
      "Perviousconcreteasanalternativepavementstrategyastateoftheartreviewpdf finished downloading\n",
      "https://aip.scitation.org/doi/pdf/10.1063/5.0000255\n",
      "50000255  ....downloading\n",
      "50000255 finished downloading\n",
      "https://www.mdpi.com/1996-1944/13/2/321/pdf\n",
      "pdf  ....downloading\n",
      "pdf finished downloading\n",
      "https://www.mdpi.com/2076-3417/10/8/2691/pdf\n",
      "pdf  ....downloading\n",
      "pdf finished downloading\n",
      "https://www.researchgate.net/profile/Soheil_Jahandari2/publication/340675260_Evaluating_the_use_of_recycled_concrete_aggregate_and_pozzolanic_additives_in_fiber-reinforced_pervious_concrete_with_industrial_and_recycled_fibers/links/5e9afda3299bf13079a31247/Evaluating-the-use-of-recycled-concrete-aggregate-and-pozzolanic-additives-in-fiber-reinforced-pervious-concrete-with-industrial-and-recycled-fibers.pdf\n",
      "Evaluatingtheuseofrecycledconcreteaggregateandpozzolanicadditivesinfiberreinforcedperviousconcretewithindustrialandrecycledfiberspdf  ....downloading\n",
      "Evaluatingtheuseofrecycledconcreteaggregateandpozzolanicadditivesinfiberreinforcedperviousconcretewithindustrialandrecycledfiberspdf finished downloading\n",
      "https://www.researchgate.net/profile/Hong_Shang/publication/340129840_Simulating_the_Long-Term_Performance_of_Multifunctional_Green-Pervious_Concrete_Pavement_in_Stormwater_Runoff-Induced_PAHs_Remediation/links/5e7a2f564585152fc0ec343d/Simulating-the-Long-Term-Performance-of-Multifunctional-Green-Pervious-Concrete-Pavement-in-Stormwater-Runoff-Induced-PAHs-Remediation.pdf\n",
      "SimulatingtheLongTermPerformanceofMultifunctionalGreenPerviousConcretePavementinStormwaterRunoffInducedPAHsRemediationpdf  ....downloading\n",
      "SimulatingtheLongTermPerformanceofMultifunctionalGreenPerviousConcretePavementinStormwaterRunoffInducedPAHsRemediationpdf finished downloading\n",
      "http://www.academia.edu/download/63308076/review-paper-on-the-study-of-perforated-IJERTV9IS05021420200514-26593-u93cs3.pdf\n",
      "reviewpaperonthestudyofperforatedIJERTV9IS0502142020051426593u93cs3pdf  ....downloading\n",
      "reviewpaperonthestudyofperforatedIJERTV9IS0502142020051426593u93cs3pdf finished downloading\n",
      "https://iopscience.iop.org/article/10.1088/1757-899X/712/1/012011/pdf\n",
      "pdf  ....downloading\n",
      "pdf finished downloading\n",
      "https://www.researchgate.net/profile/Eduardo_Elizondo-Martinez/publication/336102773_Review_of_porous_concrete_as_multifunctional_and_sustainable_pavement/links/5d8e04d0299bf10cff139e64/Review-of-porous-concrete-as-multifunctional-and-sustainable-pavement.pdf\n",
      "Reviewofporousconcreteasmultifunctionalandsustainablepavementpdf  ....downloading\n",
      "Reviewofporousconcreteasmultifunctionalandsustainablepavementpdf finished downloading\n",
      "https://www.researchgate.net/profile/Filippo_Giustozzi/publication/321679047_Clogging_potential_evaluation_of_porous_mixture_surfaces_used_in_permeable_pavement_systems/links/5a2c7f59aca2728e05e09709/Clogging-potential-evaluation-of-porous-mixture-surfaces-used-in-permeable-pavement-systems.pdf\n",
      "Cloggingpotentialevaluationofporousmixturesurfacesusedinpermeablepavementsystemspdf  ....downloading\n",
      "Cloggingpotentialevaluationofporousmixturesurfacesusedinpermeablepavementsystemspdf finished downloading\n",
      "http://www.jett.dormaj.com/docs/Volume8/Issue%201/Reducing%20Urban%20Runoff%20Pollution%20Using%20Porous%20Concrete%20Containing%20Mineral%20Adsorbents.pdf\n",
      "Reducing20Urban20Runoff20Pollution20Using20Porous20Concrete20Containing20Mineral20Adsorbentspdf  ....downloading\n",
      "Reducing20Urban20Runoff20Pollution20Using20Porous20Concrete20Containing20Mineral20Adsorbentspdf finished downloading\n",
      "https://scholarworks.uark.edu/cgi/viewcontent.cgi?article=1061&context=cveguht\n",
      "viewcontentcgiarticle1061contextcveguht  ....downloading\n",
      "viewcontentcgiarticle1061contextcveguht finished downloading\n",
      "https://revistes.upc.edu/index.php/CTV/article/viewFile/8425/1164\n",
      "1164  ....downloading\n",
      "1164 finished downloading\n",
      "https://upcommons.upc.edu/bitstream/handle/2117/185505/8425-8920-1-PB.pdf\n",
      "842589201PBpdf  ....downloading\n",
      "842589201PBpdf finished downloading\n",
      "http://www.academia.edu/download/63280932/Titanium_Dioxide-Potential_Use_In_Permeable_Pavement_-_Copy20200512-81824-1owjuk0.pdf\n",
      "Titanium_DioxidePotential_Use_In_Permeable_Pavement__Copy20200512818241owjuk0pdf  ....downloading\n",
      "Titanium_DioxidePotential_Use_In_Permeable_Pavement__Copy20200512818241owjuk0pdf finished downloading\n",
      "https://www.mdpi.com/2071-1050/12/6/2392/pdf\n",
      "pdf  ....downloading\n"
     ]
    },
    {
     "name": "stdout",
     "output_type": "stream",
     "text": [
      "pdf finished downloading\n",
      "https://www.researchgate.net/profile/Guoyang_Lu2/publication/339553784_Investigation_of_the_Hydraulic_Properties_of_Pervious_Pavement_Mixtures_Characterization_of_Darcy_and_Non-Darcy_Flow_Based_on_Pore_Microstructures/links/5e5901a7299bf1bdb84121ef/Investigation-of-the-Hydraulic-Properties-of-Pervious-Pavement-Mixtures-Characterization-of-Darcy-and-Non-Darcy-Flow-Based-on-Pore-Microstructures.pdf\n",
      "InvestigationoftheHydraulicPropertiesofPerviousPavementMixturesCharacterizationofDarcyandNonDarcyFlowBasedonPoreMicrostructurespdf  ....downloading\n",
      "InvestigationoftheHydraulicPropertiesofPerviousPavementMixturesCharacterizationofDarcyandNonDarcyFlowBasedonPoreMicrostructurespdf finished downloading\n",
      "https://www.geomatejournal.com/sites/default/files/articles/209-214-9266-Evi-June-2020-70.pdf\n",
      "2092149266EviJune202070pdf  ....downloading\n",
      "2092149266EviJune202070pdf finished downloading\n",
      "https://www.mdpi.com/2071-1050/12/10/4243/pdf\n",
      "pdf  ....downloading\n",
      "pdf finished downloading\n"
     ]
    }
   ],
   "source": [
    "search = input('input you search data: ')\n",
    "filePath = input('input you search file path: for example C:/Users/ABDULLAH/Pictures/: ')\n",
    "search.replace(\" \", \"+\")\n",
    "ylo = input('input lower year Range: ')\n",
    "yhi = input('input higher year Range: ')\n",
    "col = 0\n",
    "\n",
    "#moving from one page to another\n",
    "for x in range(0, 100, 10):\n",
    "    \n",
    "    #getting url of the searck keywords\n",
    "    url = \"https://scholar.google.com/scholar?start=\" + str(x) + \"&q=\" + search + \"&hl=en&as_sdt=0,5&as_ylo=\"+str(yhi)+\"&as_yhi=\"+str(yhi)\n",
    "    response = requests.get(url)\n",
    "    content = response.content\n",
    "    parser = BeautifulSoup(content, 'html.parser')\n",
    "    links = parser.select(\".gs_or_ggsm a\")\n",
    "    \n",
    "    #getting each link to the file tobe downloaded\n",
    "    for link in links:\n",
    "        urls = link.get('href')\n",
    "        #print(urls)\n",
    "        file_name = urls.split('/')[-1]\n",
    "        file_name = re.sub('\\W+','', file_name)\n",
    "        print(file_name + \"  ....downloading\")\n",
    "        \n",
    "        #trying to catch Error in a Faulty url\n",
    "        try:\n",
    "            \n",
    "            #checking if the url will redirect or not\n",
    "            try:\n",
    "                myfile = requests.get(urls, allow_redirects=True)\n",
    "            except:\n",
    "                myfile = requests.get(urls)\n",
    "                \n",
    "            open(filePath + file_name + '.pdf', 'wb').write(myfile.content)\n",
    "            print(file_name + \" finished downloading\")\n",
    "            \n",
    "            \n",
    "        except:\n",
    "            print('url is faulty')\n",
    "               "
   ]
  },
  {
   "cell_type": "code",
   "execution_count": 7,
   "metadata": {},
   "outputs": [
    {
     "data": {
      "text/plain": [
       "200"
      ]
     },
     "execution_count": 7,
     "metadata": {},
     "output_type": "execute_result"
    }
   ],
   "source": [
    "response.status_code"
   ]
  },
  {
   "cell_type": "code",
   "execution_count": null,
   "metadata": {},
   "outputs": [],
   "source": []
  },
  {
   "cell_type": "code",
   "execution_count": null,
   "metadata": {},
   "outputs": [],
   "source": []
  }
 ],
 "metadata": {
  "kernelspec": {
   "display_name": "Python 3",
   "language": "python",
   "name": "python3"
  },
  "language_info": {
   "codemirror_mode": {
    "name": "ipython",
    "version": 3
   },
   "file_extension": ".py",
   "mimetype": "text/x-python",
   "name": "python",
   "nbconvert_exporter": "python",
   "pygments_lexer": "ipython3",
   "version": "3.7.6"
  }
 },
 "nbformat": 4,
 "nbformat_minor": 4
}

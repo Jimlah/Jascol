{
 "cells": [
  {
   "cell_type": "code",
   "execution_count": 5,
   "metadata": {},
   "outputs": [],
   "source": [
    "import pandas as pd\n",
    "import requests\n",
    "from bs4 import BeautifulSoup"
   ]
  },
  {
   "cell_type": "code",
   "execution_count": 11,
   "metadata": {
    "scrolled": true
   },
   "outputs": [
    {
     "name": "stdout",
     "output_type": "stream",
     "text": [
      "input you search data: image Recognition\n",
      "input you search file path: for example C:/Users/ABDULLAH/Pictures/: C:/Users/ABDULLAH/Pictures/\n",
      "input lower year Range: 2010\n",
      "input higher year Range: 2020\n",
      "190404767  ....downloading\n",
      "190404767 finished downloading\n",
      "09076601pdf  ....downloading\n",
      "09076601pdf finished downloading\n",
      "US10616613pdf  ....downloading\n",
      "US10616613pdf finished downloading\n",
      "US10565759pdf  ....downloading\n",
      "US10565759pdf finished downloading\n",
      "US20190012526A1pdf  ....downloading\n",
      "US20190012526A1pdf finished downloading\n",
      "180408348  ....downloading\n",
      "180408348 finished downloading\n",
      "US10621468pdf  ....downloading\n",
      "US10621468pdf finished downloading\n",
      "200107761  ....downloading\n",
      "200107761 finished downloading\n",
      "08952686pdf  ....downloading\n",
      "08952686pdf finished downloading\n",
      "08977374pdf  ....downloading\n",
      "08977374pdf finished downloading\n",
      "20191008093835_eb05x0ybwepdf  ....downloading\n",
      "20191008093835_eb05x0ybwepdf finished downloading\n",
      "200309150  ....downloading\n",
      "200309150 finished downloading\n",
      "190807919  ....downloading\n",
      "190807919 finished downloading\n",
      "prl20pdf  ....downloading\n",
      "prl20pdf finished downloading\n",
      "170606247  ....downloading\n",
      "170606247 finished downloading\n",
      "190106792  ....downloading\n",
      "190106792 finished downloading\n",
      "09085435pdf  ....downloading\n",
      "09085435pdf finished downloading\n",
      "US10599709pdf  ....downloading\n",
      "US10599709pdf finished downloading\n",
      "pdf  ....downloading\n",
      "pdf finished downloading\n",
      "htm  ....downloading\n",
      "htm finished downloading\n",
      "ALSATO  ....downloading\n",
      "url is faulty\n",
      "22134636pdf  ....downloading\n",
      "22134636pdf finished downloading\n",
      "200207754  ....downloading\n",
      "200207754 finished downloading\n",
      "S0262885619304597  ....downloading\n",
      "S0262885619304597 finished downloading\n",
      "191104241  ....downloading\n",
      "191104241 finished downloading\n",
      "190902410  ....downloading\n",
      "190902410 finished downloading\n",
      "US20200051230A1pdf  ....downloading\n",
      "US20200051230A1pdf finished downloading\n",
      "154dec2019pdf  ....downloading\n",
      "154dec2019pdf finished downloading\n",
      "190710456  ....downloading\n",
      "190710456 finished downloading\n",
      "S1319157818302404  ....downloading\n",
      "S1319157818302404 finished downloading\n",
      "Histogramlearningapproachtoimagerecognitionpdf  ....downloading\n",
      "Histogramlearningapproachtoimagerecognitionpdf finished downloading\n",
      "matecconf_cscns2020_03027pdf  ....downloading\n",
      "matecconf_cscns2020_03027pdf finished downloading\n",
      "  ....downloading\n",
      " finished downloading\n",
      "US20200007755A1pdf  ....downloading\n",
      "US20200007755A1pdf finished downloading\n",
      "pdf  ....downloading\n",
      "pdf finished downloading\n",
      "US10528809pdf  ....downloading\n",
      "US10528809pdf finished downloading\n",
      "US20200005023A1pdf  ....downloading\n",
      "US20200005023A1pdf finished downloading\n",
      "200308685  ....downloading\n",
      "200308685 finished downloading\n",
      "Facialexpressionrecognitionwithconvolutionalneuralnetworksviaanewfacecroppingandrotationstrategypdf  ....downloading\n",
      "Facialexpressionrecognitionwithconvolutionalneuralnetworksviaanewfacecroppingandrotationstrategypdf finished downloading\n",
      "US20200019788A1pdf  ....downloading\n",
      "US20200019788A1pdf finished downloading\n",
      "190311233  ....downloading\n",
      "190311233 finished downloading\n",
      "DeepLearningBasedRepresentationforFaceRecognitionpdf  ....downloading\n",
      "DeepLearningBasedRepresentationforFaceRecognitionpdf finished downloading\n",
      "US10599959pdf  ....downloading\n",
      "US10599959pdf finished downloading\n",
      "S0925231219316510  ....downloading\n",
      "S0925231219316510 finished downloading\n",
      "3pdf  ....downloading\n",
      "3pdf finished downloading\n",
      "s0003401901222x  ....downloading\n",
      "s0003401901222x finished downloading\n",
      "9783030277314_13  ....downloading\n",
      "9783030277314_13 finished downloading\n",
      "pdf  ....downloading\n",
      "pdf finished downloading\n",
      "181210477  ....downloading\n",
      "181210477 finished downloading\n",
      "200305037  ....downloading\n",
      "200305037 finished downloading\n",
      "IF2019pdf  ....downloading\n",
      "IF2019pdf finished downloading\n",
      "180606397  ....downloading\n",
      "180606397 finished downloading\n",
      "Albiero_Analysis_of_Gender_Inequality_In_Face_Recognition_Accuracy_WACVW_2020_paperpdf  ....downloading\n",
      "Albiero_Analysis_of_Gender_Inequality_In_Face_Recognition_Accuracy_WACVW_2020_paperpdf finished downloading\n",
      "181201043  ....downloading\n",
      "181201043 finished downloading\n",
      "pdf  ....downloading\n",
      "pdf finished downloading\n"
     ]
    }
   ],
   "source": [
    "search = input('input you search data: ')\n",
    "filePath = input('input you search file path: for example C:/Users/ABDULLAH/Pictures/: ')\n",
    "search.replace(\" \", \"+\")\n",
    "ylo = input('input lower year Range: ')\n",
    "yhi = input('input higher year Range: ')\n",
    "col = 0\n",
    "for x in range(0, 100, 10):\n",
    "    url = \"https://scholar.google.com/scholar?start=\" + str(x) + \"&q=\" + search + \"&hl=en&as_sdt=0,5&as_ylo=\"+str(yhi)+\"&as_yhi=\"+str(yhi)\n",
    "    response = requests.get(url)\n",
    "    content = response.content\n",
    "    parser = BeautifulSoup(content, 'html.parser')\n",
    "    links = parser.select(\".gs_or_ggsm a\")\n",
    "    for link in links:\n",
    "        urls = link.get('href')\n",
    "        #print(urls)\n",
    "        file_name = urls.split('/')[-1]\n",
    "        file_name = re.sub('\\W+','', file_name)\n",
    "        print(file_name + \"  ....downloading\")\n",
    "        \n",
    "        try:\n",
    "            myfile = requests.get(urls, allow_redirects=True)\n",
    "            open(filePath + file_name + '.pdf', 'wb').write(myfile.content)\n",
    "            print(file_name + \" finished downloading\")\n",
    "        except:\n",
    "            print('url is faulty')\n",
    "               "
   ]
  },
  {
   "cell_type": "code",
   "execution_count": 7,
   "metadata": {},
   "outputs": [
    {
     "data": {
      "text/plain": [
       "200"
      ]
     },
     "execution_count": 7,
     "metadata": {},
     "output_type": "execute_result"
    }
   ],
   "source": [
    "response.status_code"
   ]
  },
  {
   "cell_type": "code",
   "execution_count": null,
   "metadata": {},
   "outputs": [],
   "source": []
  },
  {
   "cell_type": "code",
   "execution_count": null,
   "metadata": {},
   "outputs": [],
   "source": []
  }
 ],
 "metadata": {
  "kernelspec": {
   "display_name": "Python 3",
   "language": "python",
   "name": "python3"
  },
  "language_info": {
   "codemirror_mode": {
    "name": "ipython",
    "version": 3
   },
   "file_extension": ".py",
   "mimetype": "text/x-python",
   "name": "python",
   "nbconvert_exporter": "python",
   "pygments_lexer": "ipython3",
   "version": "3.7.6"
  }
 },
 "nbformat": 4,
 "nbformat_minor": 4
}
